{
 "cells": [
  {
   "cell_type": "code",
   "execution_count": 1,
   "metadata": {},
   "outputs": [],
   "source": [
    "from functions.load_data import *\n",
    "from functions.plot import *"
   ]
  },
  {
   "cell_type": "code",
   "execution_count": 2,
   "metadata": {},
   "outputs": [
    {
     "name": "stdout",
     "output_type": "stream",
     "text": [
      "Original numpy dataset contains 38,309 timesteps of 53 joints with 3 dimensions each.\n"
     ]
    }
   ],
   "source": [
    "ds_all, ds_all_centered, datasets, datasets_centered, ds_counts = load_data()"
   ]
  },
  {
   "cell_type": "code",
   "execution_count": 3,
   "metadata": {},
   "outputs": [
    {
     "name": "stdout",
     "output_type": "stream",
     "text": [
      "(64, 53, 3)\n"
     ]
    }
   ],
   "source": [
    "seq_len = 64\n",
    "start_ts = 0\n",
    "\n",
    "seq = ds_all_centered[start_ts: start_ts + seq_len, :, :3]\n",
    "print(seq.shape)"
   ]
  },
  {
   "cell_type": "markdown",
   "metadata": {},
   "source": [
    "### Visualize a single sequence"
   ]
  },
  {
   "cell_type": "code",
   "execution_count": 4,
   "metadata": {},
   "outputs": [
    {
     "name": "stderr",
     "output_type": "stream",
     "text": [
      "Skeleton lines: 100%|██████████| 58/58 [00:00<00:00, 891.88it/s]\n"
     ]
    }
   ],
   "source": [
    "ani = animate_stick(seq, speed=50, figsize=(10, 8), cmap='inferno', cloud=False, ax_lims=(-1, 1))"
   ]
  },
  {
   "cell_type": "code",
   "execution_count": null,
   "metadata": {},
   "outputs": [],
   "source": [
    "animation_js = ani.to_jshtml()\n",
    "display(HTML(animation_js))"
   ]
  },
  {
   "cell_type": "markdown",
   "metadata": {},
   "source": [
    "### Load network"
   ]
  },
  {
   "cell_type": "code",
   "execution_count": 6,
   "metadata": {},
   "outputs": [
    {
     "name": "stdout",
     "output_type": "stream",
     "text": [
      "VAELSTM(\n",
      "  (encoder): Encoder(\n",
      "    (lstm): LSTM(159, 394, num_layers=2, batch_first=True)\n",
      "    (mean): Linear(in_features=394, out_features=256, bias=True)\n",
      "    (log_var): Linear(in_features=394, out_features=256, bias=True)\n",
      "  )\n",
      "  (decoder): Decoder(\n",
      "    (linear): Linear(in_features=256, out_features=394, bias=True)\n",
      "    (lstm): LSTM(394, 394, num_layers=2, batch_first=True)\n",
      "    (out): Conv1d(394, 159, kernel_size=(3,), stride=(1,), padding=(1,))\n",
      "  )\n",
      ")\n"
     ]
    },
    {
     "data": {
      "text/plain": [
       "<All keys matched successfully>"
      ]
     },
     "execution_count": 6,
     "metadata": {},
     "output_type": "execute_result"
    }
   ],
   "source": [
    "from functions.model_variants import VAELSTM\n",
    "import torch\n",
    "from copy import deepcopy\n",
    "\n",
    "network = VAELSTM(seq_len=1, latent_dim=256, n_units=394, device='cpu')\n",
    "print(network)\n",
    "\n",
    "load_net = torch.load('model480_static_new.pth', map_location='cpu')['params']\n",
    "for k, v in deepcopy(load_net).items():\n",
    "    if k.startswith('module.'):\n",
    "        load_net[k[7:]] = v\n",
    "        load_net.pop(k)\n",
    "\n",
    "network.load_state_dict(load_net, strict=True)"
   ]
  },
  {
   "cell_type": "markdown",
   "metadata": {},
   "source": [
    "### Compare an input dance sequence from a holdout test set with its corresponding decoded sequence"
   ]
  },
  {
   "cell_type": "code",
   "execution_count": 17,
   "metadata": {},
   "outputs": [
    {
     "name": "stdout",
     "output_type": "stream",
     "text": [
      "5747\n"
     ]
    }
   ],
   "source": [
    "import random\n",
    "\n",
    "test_set = torch.load('test_set_static.h5')\n",
    "print(len(test_set))"
   ]
  },
  {
   "cell_type": "code",
   "execution_count": 157,
   "metadata": {},
   "outputs": [
    {
     "name": "stdout",
     "output_type": "stream",
     "text": [
      "(64, 53, 3)\n"
     ]
    }
   ],
   "source": [
    "rdm_idx = 2850\n",
    "seqs = []\n",
    "\n",
    "# randomly choose a sequence with length 64\n",
    "for i in range(64):\n",
    "    seq = test_set[rdm_idx + i]['seq'][:, :, :3]\n",
    "    seqs.append(seq.squeeze(0))\n",
    "\n",
    "seqs_numpy = np.stack(seqs, axis=0)\n",
    "print(seqs_numpy.shape)"
   ]
  },
  {
   "cell_type": "code",
   "execution_count": 159,
   "metadata": {},
   "outputs": [
    {
     "name": "stdout",
     "output_type": "stream",
     "text": [
      "(64, 53, 3)\n"
     ]
    }
   ],
   "source": [
    "import numpy as np\n",
    "\n",
    "outputs = []\n",
    "for i in range(64):\n",
    "    output, mean, log_var = network(seqs[i].unsqueeze(0).unsqueeze(0))\n",
    "    output = output.squeeze(0).squeeze(0).detach().numpy()\n",
    "    outputs.append(output)\n",
    "\n",
    "outputs = np.stack(outputs, axis=0)\n",
    "print(outputs.shape)"
   ]
  },
  {
   "cell_type": "code",
   "execution_count": null,
   "metadata": {},
   "outputs": [],
   "source": [
    "animation = animate_stick(seqs_numpy[:, :, :3], ghost=outputs, ghost_shift=0.2, figsize=(10, 8), cmap='inferno', cloud=False, ax_lims=(-1, 1))\n",
    "\n",
    "animation_js = animation.to_jshtml()\n",
    "display(HTML(animation_js))"
   ]
  },
  {
   "cell_type": "markdown",
   "metadata": {},
   "source": [
    "### Adding noise to latent space"
   ]
  },
  {
   "cell_type": "markdown",
   "metadata": {},
   "source": [
    "$\\sigma=0$, the generated sequence is almost identical to the original sequence"
   ]
  },
  {
   "cell_type": "code",
   "execution_count": null,
   "metadata": {},
   "outputs": [],
   "source": [
    "outputs = []\n",
    "sigma = 0\n",
    "\n",
    "bias = torch.Tensor(np.random.normal(0, sigma, 256))\n",
    "\n",
    "for i in range(64):\n",
    "    mean, _ = network.encoder(seqs[i].unsqueeze(0).unsqueeze(0))\n",
    "    output = network.decoder(mean + bias)\n",
    "    output = output.squeeze(0).squeeze(0).detach().numpy()\n",
    "    outputs.append(output)\n",
    "\n",
    "outputs = np.stack(outputs, axis=0)\n",
    "\n",
    "animation = animate_stick(seqs_numpy[:, :, :3], ghost=outputs, ghost_shift=0.2, figsize=(10, 8), cmap='inferno', cloud=False, ax_lims=(-1, 1))\n",
    "\n",
    "animation_js = animation.to_jshtml()\n",
    "display(HTML(animation_js))"
   ]
  },
  {
   "cell_type": "markdown",
   "metadata": {},
   "source": [
    "$\\sigma=0.1$"
   ]
  },
  {
   "cell_type": "code",
   "execution_count": null,
   "metadata": {},
   "outputs": [],
   "source": [
    "outputs = []\n",
    "sigma = 0.1\n",
    "\n",
    "bias = torch.Tensor(np.random.normal(0, sigma, 256))\n",
    "\n",
    "for i in range(64):\n",
    "    mean, _ = network.encoder(seqs[i].unsqueeze(0).unsqueeze(0))\n",
    "    output = network.decoder(mean + bias)\n",
    "    output = output.squeeze(0).squeeze(0).detach().numpy()\n",
    "    outputs.append(output)\n",
    "\n",
    "outputs = np.stack(outputs, axis=0)\n",
    "\n",
    "animation = animate_stick(seqs_numpy[:, :, :3], ghost=outputs, ghost_shift=0.2, figsize=(10, 8), cmap='inferno', cloud=False, ax_lims=(-1, 1))\n",
    "\n",
    "animation_js = animation.to_jshtml()\n",
    "display(HTML(animation_js))"
   ]
  },
  {
   "cell_type": "markdown",
   "metadata": {},
   "source": [
    "$\\sigma=0.5$"
   ]
  },
  {
   "cell_type": "code",
   "execution_count": null,
   "metadata": {},
   "outputs": [],
   "source": [
    "outputs = []\n",
    "sigma = 0.5\n",
    "\n",
    "bias = torch.Tensor(np.random.normal(0, sigma, 256))\n",
    "\n",
    "for i in range(64):\n",
    "    mean, _ = network.encoder(seqs[i].unsqueeze(0).unsqueeze(0))\n",
    "    output = network.decoder(mean + bias)\n",
    "    output = output.squeeze(0).squeeze(0).detach().numpy()\n",
    "    outputs.append(output)\n",
    "\n",
    "outputs = np.stack(outputs, axis=0)\n",
    "\n",
    "animation = animate_stick(seqs_numpy[:, :, :3], ghost=outputs, ghost_shift=0.2, figsize=(10, 8), cmap='inferno', cloud=False, ax_lims=(-1, 1))\n",
    "\n",
    "animation_js = animation.to_jshtml()\n",
    "display(HTML(animation_js))"
   ]
  },
  {
   "cell_type": "markdown",
   "metadata": {},
   "source": [
    "### Sample randomly from the latent space, output shows a jittery fashion"
   ]
  },
  {
   "cell_type": "code",
   "execution_count": null,
   "metadata": {},
   "outputs": [],
   "source": [
    "outputs = []\n",
    "sigma = 0.1\n",
    "\n",
    "for i in range(64):\n",
    "    output = network.decoder(torch.Tensor(np.random.normal(0, sigma, (1, 256))))\n",
    "    output = output.squeeze(0).squeeze(0).detach().numpy()\n",
    "    outputs.append(output)\n",
    "\n",
    "outputs = np.stack(outputs, axis=0)\n",
    "\n",
    "animation = animate_stick(outputs, figsize=(10, 8), cmap='inferno', cloud=False, ax_lims=(-1, 1))\n",
    "\n",
    "animation_js = animation.to_jshtml()\n",
    "display(HTML(animation_js))"
   ]
  }
 ],
 "metadata": {
  "kernelspec": {
   "display_name": "Python 3",
   "language": "python",
   "name": "python3"
  },
  "language_info": {
   "codemirror_mode": {
    "name": "ipython",
    "version": 3
   },
   "file_extension": ".py",
   "mimetype": "text/x-python",
   "name": "python",
   "nbconvert_exporter": "python",
   "pygments_lexer": "ipython3",
   "version": "3.7.4"
  }
 },
 "nbformat": 4,
 "nbformat_minor": 2
}
